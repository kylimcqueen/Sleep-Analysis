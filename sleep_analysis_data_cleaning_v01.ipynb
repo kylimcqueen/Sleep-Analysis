{
  "cells": [
    {
      "cell_type": "code",
      "execution_count": 1,
      "metadata": {
        "id": "jkQpMVuARXRx"
      },
      "outputs": [],
      "source": [
        "'''# Set up Git in this Google Colab notebook\n",
        "!git config --global user.email \"kylimcqueen@arizona.edu\"\n",
        "!git config --global user.name \"kylimcqueen\"'''"
      ]
    },
    {
      "cell_type": "markdown",
      "metadata": {
        "id": "5RlhWVSWYeQH"
      },
      "source": [
        "Objective: Clean sleep data files for analysis\n",
        "Input: CSV files where each row is date and time and each column is an animal. Each cell is an animal's data point (sleep percentage per hour or activity percentage per hour) at that specific date and time.\n",
        "Output: CSV? Dataframe?"
      ]
    },
    {
      "cell_type": "markdown",
      "metadata": {
        "id": "IpS8wnK7ajoE"
      },
      "source": [
        "Notes: The user should upload files to Google Drive prior to running the program."
      ]
    },
    {
      "cell_type": "code",
      "execution_count": null,
      "metadata": {
        "colab": {
          "base_uri": "https://localhost:8080/"
        },
        "id": "c-F7VNObRwRM",
        "outputId": "6b8fd71e-3e90-4945-9bde-cfc885e20fbc"
      },
      "outputs": [],
      "source": [
        "'''# Clone the Github repository\n",
        "!git clone https://github.com/kylimcqueen/Sleep-Analysis'''"
      ]
    },
    {
      "cell_type": "code",
      "execution_count": null,
      "metadata": {
        "colab": {
          "base_uri": "https://localhost:8080/"
        },
        "id": "65RXIYkfSQIn",
        "outputId": "42ce445d-6cc9-4892-c1be-5ad3ee9ef306"
      },
      "outputs": [],
      "source": [
        "'''# Move to the repository directory\n",
        "%cd Sleep-Analysis'''"
      ]
    },
    {
      "cell_type": "code",
      "execution_count": null,
      "metadata": {
        "id": "c6kE64GJSTal"
      },
      "outputs": [
        {
          "ename": "",
          "evalue": "",
          "output_type": "error",
          "traceback": [
            "\u001b[1;31mRunning cells with '.conda (Python 3.12.5)' requires the ipykernel package.\n",
            "\u001b[1;31mRun the following command to install 'ipykernel' into the Python environment. \n",
            "\u001b[1;31mCommand: 'conda install -n .conda ipykernel --update-deps --force-reinstall'"
          ]
        }
      ],
      "source": [
        "#Import necessary packages\n",
        "import numpy as np\n",
        "import pandas as pd\n",
        "import matplotlib.pyplot as plt"
      ]
    },
    {
      "cell_type": "code",
      "execution_count": null,
      "metadata": {
        "colab": {
          "base_uri": "https://localhost:8080/"
        },
        "id": "ldjCCsg6Z_A-",
        "outputId": "f86250f4-e53b-42e9-995c-c63674ea9791"
      },
      "outputs": [],
      "source": [
        "#Mount Google Drive\n",
        "\n",
        "from google.colab import drive\n",
        "drive.mount('/content/drive')\n"
      ]
    },
    {
      "cell_type": "code",
      "execution_count": null,
      "metadata": {
        "colab": {
          "base_uri": "https://localhost:8080/"
        },
        "id": "uiK6bIF-bS-7",
        "outputId": "fb65c0b5-fa7f-4941-f71a-3d723c918aa1"
      },
      "outputs": [],
      "source": [
        "'''!git add sleep_analysis_data_cleaning_v01.ipynb\n",
        "!git commit -m \"Initial commit with import statements and Google Drive mount\"\n",
        "!git push origin main'''"
      ]
    }
  ],
  "metadata": {
    "colab": {
      "authorship_tag": "ABX9TyM8w34Nuc0EbmE/gJ1K3UAD",
      "include_colab_link": true,
      "provenance": []
    },
    "kernelspec": {
      "display_name": "Python 3",
      "name": "python3"
    },
    "language_info": {
      "name": "python",
      "version": "3.12.5"
    }
  },
  "nbformat": 4,
  "nbformat_minor": 0
}
