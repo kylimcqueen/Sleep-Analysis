{
  "nbformat": 4,
  "nbformat_minor": 0,
  "metadata": {
    "colab": {
      "provenance": [],
      "authorship_tag": "ABX9TyM8w34Nuc0EbmE/gJ1K3UAD",
      "include_colab_link": true
    },
    "kernelspec": {
      "name": "python3",
      "display_name": "Python 3"
    },
    "language_info": {
      "name": "python"
    }
  },
  "cells": [
    {
      "cell_type": "markdown",
      "metadata": {
        "id": "view-in-github",
        "colab_type": "text"
      },
      "source": [
        "<a href=\"https://colab.research.google.com/github/kylimcqueen/Sleep-Analysis/blob/main/sleep_analysis_data_cleaning_v01.ipynb\" target=\"_parent\"><img src=\"https://colab.research.google.com/assets/colab-badge.svg\" alt=\"Open In Colab\"/></a>"
      ]
    },
    {
      "cell_type": "code",
      "execution_count": 1,
      "metadata": {
        "id": "jkQpMVuARXRx"
      },
      "outputs": [],
      "source": [
        "'''# Set up Git in this Google Colab notebook\n",
        "!git config --global user.email \"kylimcqueen@arizona.edu\"\n",
        "!git config --global user.name \"kylimcqueen\"'''"
      ]
    },
    {
      "cell_type": "markdown",
      "source": [
        "Objective: Clean sleep data files for analysis\n",
        "Input: CSV files where each row is date and time and each column is an animal. Each cell is an animal's data point (sleep percentage per hour or activity percentage per hour) at that specific date and time.\n",
        "Output: CSV? Dataframe?"
      ],
      "metadata": {
        "id": "5RlhWVSWYeQH"
      }
    },
    {
      "cell_type": "markdown",
      "source": [
        "Notes: The user should upload files to Google Drive prior to running the program."
      ],
      "metadata": {
        "id": "IpS8wnK7ajoE"
      }
    },
    {
      "cell_type": "code",
      "source": [
        "'''# Clone the Github repository\n",
        "!git clone https://github.com/kylimcqueen/Sleep-Analysis'''"
      ],
      "metadata": {
        "colab": {
          "base_uri": "https://localhost:8080/"
        },
        "id": "c-F7VNObRwRM",
        "outputId": "6b8fd71e-3e90-4945-9bde-cfc885e20fbc"
      },
      "execution_count": 2,
      "outputs": [
        {
          "output_type": "stream",
          "name": "stdout",
          "text": [
            "fatal: destination path 'Sleep-Analysis' already exists and is not an empty directory.\n"
          ]
        }
      ]
    },
    {
      "cell_type": "code",
      "source": [
        "'''# Move to the repository directory\n",
        "%cd Sleep-Analysis'''"
      ],
      "metadata": {
        "colab": {
          "base_uri": "https://localhost:8080/"
        },
        "id": "65RXIYkfSQIn",
        "outputId": "42ce445d-6cc9-4892-c1be-5ad3ee9ef306"
      },
      "execution_count": 3,
      "outputs": [
        {
          "output_type": "stream",
          "name": "stdout",
          "text": [
            "/content/Sleep-Analysis\n"
          ]
        }
      ]
    },
    {
      "cell_type": "code",
      "source": [
        "#Import necessary packages\n",
        "import numpy as np\n",
        "import pandas as pd\n",
        "import matplotlib.pyplot as plt"
      ],
      "metadata": {
        "id": "c6kE64GJSTal"
      },
      "execution_count": 4,
      "outputs": []
    },
    {
      "cell_type": "code",
      "source": [
        "#Mount Google Drive\n",
        "\n",
        "from google.colab import drive\n",
        "drive.mount('/content/drive')\n"
      ],
      "metadata": {
        "colab": {
          "base_uri": "https://localhost:8080/"
        },
        "id": "ldjCCsg6Z_A-",
        "outputId": "f86250f4-e53b-42e9-995c-c63674ea9791"
      },
      "execution_count": 5,
      "outputs": [
        {
          "output_type": "stream",
          "name": "stdout",
          "text": [
            "Mounted at /content/drive\n"
          ]
        }
      ]
    },
    {
      "cell_type": "code",
      "source": [
        "'''!git add sleep_analysis_data_cleaning_v01.ipynb\n",
        "!git commit -m \"Initial commit with import statements and Google Drive mount\"\n",
        "!git push origin main'''"
      ],
      "metadata": {
        "colab": {
          "base_uri": "https://localhost:8080/"
        },
        "id": "uiK6bIF-bS-7",
        "outputId": "fb65c0b5-fa7f-4941-f71a-3d723c918aa1"
      },
      "execution_count": 6,
      "outputs": [
        {
          "output_type": "stream",
          "name": "stdout",
          "text": [
            "fatal: pathspec 'sleep_analysis_data_cleaning_v01.ipynb' did not match any files\n",
            "On branch main\n",
            "Your branch is up to date with 'origin/main'.\n",
            "\n",
            "nothing to commit, working tree clean\n",
            "fatal: could not read Username for 'https://github.com': No such device or address\n"
          ]
        }
      ]
    }
  ]
}