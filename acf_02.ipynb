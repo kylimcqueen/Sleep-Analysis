{
 "cells": [
  {
   "cell_type": "markdown",
   "id": "c7defcb3-7af4-40d5-a552-4d7aaa404dfb",
   "metadata": {},
   "source": [
    "Autocorrelation function graphs, or ACF plots, plot the correlation between each datapoitn and other datapoints at different intervals. The x axis is lag, which represents which set of datapoints the datapoints are being compared against. When lag = 0, each datapoint is being compared against itself, so the y value, ACF, should always be 1. When lag = 1, each datapoint is being compared with the datapoint one timepoint behind itself. And so on. \n",
    "\n",
    "ACF functions give you an idea of whether your dataset has trend, stationarity, or seasonality. They can also give you an idea of whether you need to pursue autoregressive (AR) models or moving average (MA) models."
   ]
  },
  {
   "cell_type": "code",
   "execution_count": null,
   "id": "459d796e-fca6-4b15-8043-42c4d33a8bc9",
   "metadata": {},
   "outputs": [],
   "source": []
  }
 ],
 "metadata": {
  "kernelspec": {
   "display_name": "Python 3 (ipykernel)",
   "language": "python",
   "name": "python3"
  },
  "language_info": {
   "codemirror_mode": {
    "name": "ipython",
    "version": 3
   },
   "file_extension": ".py",
   "mimetype": "text/x-python",
   "name": "python",
   "nbconvert_exporter": "python",
   "pygments_lexer": "ipython3",
   "version": "3.12.4"
  }
 },
 "nbformat": 4,
 "nbformat_minor": 5
}
