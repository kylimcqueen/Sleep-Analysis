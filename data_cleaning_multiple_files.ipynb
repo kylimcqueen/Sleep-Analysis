{
 "cells": [
  {
   "cell_type": "markdown",
   "id": "2739981d-2669-4bdc-a81b-ca64dd391b81",
   "metadata": {},
   "source": [
    "This script contains functions for data cleaning, including missing value handling,\n",
    "data type conversions, and outlier removal when analyzing multiple .csv sleep files.\n",
    "\n",
    "For the user:\n",
    "\n",
    "1)Ensure that all files are formatted the same way - first column should be date and time, \n",
    "and each column following that is a cage or animal number. Each row is an hour."
   ]
  },
  {
   "cell_type": "code",
   "execution_count": 1,
   "id": "bc83f054-1bb5-4236-8bca-eccb4a7b3d05",
   "metadata": {},
   "outputs": [],
   "source": [
    "#Import necessary packages\n",
    "\n",
    "#Visualization\n",
    "import numpy as np\n",
    "import pandas as pd\n",
    "import matplotlib.pyplot as plt\n",
    "\n",
    "#Files\n",
    "import tkinter as tk\n",
    "from tkinter import filedialog\n",
    "\n",
    "#Reading files\n",
    "import re #regex module"
   ]
  },
  {
   "cell_type": "code",
   "execution_count": 2,
   "id": "0311f762-0e7c-4a46-baf7-0299b3626570",
   "metadata": {},
   "outputs": [],
   "source": [
    "#Load files using tkinter and return as a list\n",
    "def load_files():\n",
    "    #Initialize tkinter root window (hidden)\n",
    "    root = tk.Tk()\n",
    "    root.withdraw() #Hide the main window\n",
    "\n",
    "    #Open file dialog for multiple file selection\n",
    "    file_paths = filedialog.askopenfilenames(\n",
    "        title = \"Select files\",\n",
    "        filetypes = ((\"CSV files\", \"*.csv\"), (\"All files\", \"*.*\"))\n",
    "    )\n",
    "\n",
    "    #Return an empty list if no files selected\n",
    "    if not file_paths:\n",
    "        print(\"No files selected\")\n",
    "        return []\n",
    "        \n",
    "    #Return list of file paths\n",
    "    return list(file_paths)"
   ]
  },
  {
   "cell_type": "code",
   "execution_count": 5,
   "id": "9c2673d9-3a8b-460a-a15b-34c2a59e6156",
   "metadata": {},
   "outputs": [],
   "source": [
    "#If multiple .csv files, create df for each uploaded file and return a dictionary of dataframes\n",
    "def create_dfs(file_paths):\n",
    "    df_dict = {}\n",
    "    for file_path in file_paths:\n",
    "            #([^/\\\\]+) captures the filename without slashes\n",
    "            #\\.csv matches the end of the filepath\n",
    "            #$ makes sure .csv occurs at the end of the filepath\n",
    "            #match stores the result of the regex search. If a pattern is found, match is a Match object containing details of the match\n",
    "            match = re.search(r'([^/\\\\]+)\\.csv$', file_path)\n",
    "            if match:\n",
    "                filename = match.group(1) #Assigns text captured by first capturing group to filename variable\n",
    "                #Assign the filename as the key and the filepath as the item in the df dictionary\n",
    "                df_dict[filename] = pd.read_csv(file_path)\n",
    "            else: \n",
    "                print(f\"Error with {file_path}. Please try again.\")\n",
    "    return df_dict"
   ]
  },
  {
   "cell_type": "code",
   "execution_count": null,
   "id": "3c0c1153-49d3-4ffe-a466-43d17f9ce04b",
   "metadata": {},
   "outputs": [],
   "source": [
    "#If one .csv file, create a df and return a df\n",
    "def create_df(file_paths):\n",
    "    sleep_df = pd.read_csv("
   ]
  },
  {
   "cell_type": "code",
   "execution_count": null,
   "id": "3bbcd116-988c-4fed-9706-08a830687094",
   "metadata": {},
   "outputs": [],
   "source": [
    "#Make column names consistent"
   ]
  },
  {
   "cell_type": "code",
   "execution_count": null,
   "id": "0747131f-7e55-409f-a692-e9da04ed8efa",
   "metadata": {},
   "outputs": [],
   "source": [
    "#Concatenate dfs - only for baseline data"
   ]
  },
  {
   "cell_type": "code",
   "execution_count": null,
   "id": "48b88742-40a3-4026-83d7-c444761c4214",
   "metadata": {},
   "outputs": [],
   "source": [
    "#Clean data - remove unnecessary columns"
   ]
  },
  {
   "cell_type": "code",
   "execution_count": null,
   "id": "abcdfaa2-e871-43be-baa1-c72496d6744b",
   "metadata": {},
   "outputs": [],
   "source": [
    "#Clean data - remove outliers"
   ]
  },
  {
   "cell_type": "code",
   "execution_count": null,
   "id": "83021dee-d092-440e-bed6-7066cee13df0",
   "metadata": {},
   "outputs": [],
   "source": [
    "#Only for baseline - average the data"
   ]
  },
  {
   "cell_type": "code",
   "execution_count": null,
   "id": "08e8e596-8267-4b1e-a650-0d9a50937efd",
   "metadata": {},
   "outputs": [],
   "source": [
    "#Plot - Individual animals over time"
   ]
  },
  {
   "cell_type": "code",
   "execution_count": null,
   "id": "e456f8d3-472e-4896-a13f-b4f99af19b6f",
   "metadata": {},
   "outputs": [],
   "source": [
    "#Plot - Once vs twice daily injury group averages over time"
   ]
  },
  {
   "cell_type": "markdown",
   "id": "be8bcfef-59b5-452f-997c-0e014a00a016",
   "metadata": {},
   "source": [
    "Run functions."
   ]
  },
  {
   "cell_type": "code",
   "execution_count": 6,
   "id": "362a36c8-3edd-4810-95ae-f962ad94b658",
   "metadata": {},
   "outputs": [],
   "source": [
    "file_paths = load_files()"
   ]
  },
  {
   "cell_type": "code",
   "execution_count": 7,
   "id": "e8a11a0d-3751-4586-b006-d0d8407c4a8b",
   "metadata": {},
   "outputs": [],
   "source": [
    "df_dict = create_dfs(file_paths)"
   ]
  },
  {
   "cell_type": "code",
   "execution_count": 8,
   "id": "e25e2394-455b-4f4a-8205-e0021eb7e723",
   "metadata": {},
   "outputs": [
    {
     "data": {
      "text/plain": [
       "{'NTS S2 C1 Baseline Sleep percentages all':              Unnamed: 0  Animal1  Animal2  Animal3  Animal4  Animal5  Animal6  \\\n",
       " 0   2022-06-17 10:00:00    57.17    70.33    85.33    86.17    65.39    89.94   \n",
       " 1   2022-06-17 11:00:00    66.28    58.11    37.22    56.22    48.22    33.28   \n",
       " 2   2022-06-17 12:00:00    16.67    49.17    92.39    92.83    73.50    85.33   \n",
       " 3   2022-06-17 13:00:00    79.44    82.28    55.83    67.67    88.28    64.83   \n",
       " 4   2022-06-17 14:00:00    53.94    64.17    93.78    36.22    55.44    84.17   \n",
       " ..                  ...      ...      ...      ...      ...      ...      ...   \n",
       " 65  2022-06-20 03:00:00    27.83    46.89    44.50    43.22     8.22     1.17   \n",
       " 66  2022-06-20 04:00:00    37.94    18.83    42.39    20.33    31.33    48.28   \n",
       " 67  2022-06-20 05:00:00    27.33    71.39    22.22    23.17    50.94    30.56   \n",
       " 68  2022-06-20 06:00:00    74.11    78.83    53.61    87.17    63.28    36.44   \n",
       " 69  2022-06-20 07:00:00    36.89    49.17    89.83    65.11    62.89    92.22   \n",
       " \n",
       "     Animal7  Animal8  Animal9  Animal10  Animal11  Animal12  Animal13  \\\n",
       " 0     89.44    49.22    74.22     90.22     71.22     79.72     75.11   \n",
       " 1     41.89    55.17    66.94     47.33     71.39     71.00     69.56   \n",
       " 2     73.17    59.06    73.44     85.89     64.94     42.50     65.67   \n",
       " 3     90.44    75.44    65.11     59.83     32.83     64.33     81.39   \n",
       " 4     59.17    53.33    75.67     83.89     55.17     79.61     49.28   \n",
       " ..      ...      ...      ...       ...       ...       ...       ...   \n",
       " 65     1.28     3.33    42.44     30.89      2.39      1.50      0.00   \n",
       " 66     6.06    39.94    17.28     19.44     48.00     33.44      8.83   \n",
       " 67    20.44    68.78    56.06     86.28     67.94     61.78     30.67   \n",
       " 68    72.28    42.11    91.61     70.22     77.44     71.94     67.33   \n",
       " 69    78.44    88.50    52.83     47.67     67.33     67.39     83.67   \n",
       " \n",
       "     Animal14  Animal15  Animal16  \n",
       " 0      36.50     86.67     72.89  \n",
       " 1      76.50     53.61     84.94  \n",
       " 2      83.50     94.28     58.39  \n",
       " 3      48.39     67.83     72.94  \n",
       " 4      90.56     39.89     59.06  \n",
       " ..       ...       ...       ...  \n",
       " 65     31.33     15.61     38.61  \n",
       " 66     47.56     77.28     38.00  \n",
       " 67     36.72     38.39     43.78  \n",
       " 68     68.22     56.78     44.44  \n",
       " 69     65.94     89.83     86.67  \n",
       " \n",
       " [70 rows x 17 columns],\n",
       " 'NTS S2 C2 baseline sleep percentages all':              Unnamed: 0  Animal1  Animal2  Animal3  Animal4  Animal5  Animal6  \\\n",
       " 0   2022-07-19 17:00:00    61.44    58.50    54.44    70.33    90.78    95.00   \n",
       " 1   2022-07-19 18:00:00    44.50     5.17    71.00    51.39    47.50    31.78   \n",
       " 2   2022-07-19 19:00:00    52.83    22.78    24.44    76.33    62.11    87.44   \n",
       " 3   2022-07-19 20:00:00    13.56    54.33    62.06    36.94    57.17    14.17   \n",
       " 4   2022-07-19 21:00:00    21.83    44.94     6.50     4.06    15.94    37.56   \n",
       " 5   2022-07-19 22:00:00     0.44    23.00     0.44     8.28    42.28    18.67   \n",
       " 6   2022-07-19 23:00:00     0.72    14.39     0.28    20.22    64.44     4.61   \n",
       " 7   2022-07-20 00:00:00     2.00    38.89     0.61    17.22     5.56     4.06   \n",
       " 8   2022-07-20 01:00:00     3.06    38.50    63.11     5.39     5.44     0.39   \n",
       " 9   2022-07-20 02:00:00     2.78    44.94    18.78     2.28     1.61     2.56   \n",
       " 10  2022-07-20 03:00:00    37.50     7.50    57.50     2.28     3.94    26.28   \n",
       " 11  2022-07-20 04:00:00    56.11    19.83    82.89     1.83    31.94    15.39   \n",
       " 12  2022-07-20 05:00:00    17.89    35.17    11.78    79.22    33.17    82.89   \n",
       " 13  2022-07-20 06:00:00    62.50    48.83    72.61    52.67    66.11    43.44   \n",
       " 14  2022-07-20 07:00:00    69.61    61.89    31.06    51.61    16.06    83.94   \n",
       " 15  2022-07-20 08:00:00    41.44    42.44    60.89    70.61    50.28    57.00   \n",
       " 16  2022-07-20 09:00:00    89.28    67.89    58.61    51.39    50.00    43.56   \n",
       " 17  2022-07-20 10:00:00    51.11    51.11    49.44    57.06    46.78    44.33   \n",
       " 18  2022-07-20 11:00:00    86.11    73.28    70.50    52.44    47.22    61.50   \n",
       " 19  2022-07-20 12:00:00    50.78    43.72    57.11    94.56    67.56    69.67   \n",
       " 20  2022-07-20 13:00:00    45.72    89.28    70.56    71.67    46.78    68.78   \n",
       " 21  2022-07-20 14:00:00    94.94    19.72    70.28    79.72    93.11    80.17   \n",
       " 22  2022-07-20 15:00:00    79.00    68.56    36.17    46.44    71.89    49.78   \n",
       " 23  2022-07-20 16:00:00    54.33    53.50    77.33    90.28    69.72    88.56   \n",
       " \n",
       "     Animal7  Animal8  Animal9  Animal10  Animal11  Animal12  Animal13  \\\n",
       " 0     65.72    67.33    20.06     70.61     71.06     88.83     59.83   \n",
       " 1     15.83    57.06    45.50     76.00     55.72     13.94     87.17   \n",
       " 2     26.17    32.00    32.06     64.56     62.06     30.67     21.83   \n",
       " 3     54.89    38.56    27.50     12.33     47.17     43.89     60.89   \n",
       " 4     33.50    30.78    10.33      0.00     31.72     16.00     51.83   \n",
       " 5     11.44     0.94     0.33      0.22      7.94      1.94      0.67   \n",
       " 6      3.89     0.56    24.28     11.39      1.50     19.94      2.00   \n",
       " 7     14.67     1.00    17.00      0.67     26.39     17.44     20.61   \n",
       " 8     46.61    43.06    53.00      5.89     46.06     28.94     64.11   \n",
       " 9     25.39    25.06     4.67     46.94     12.78     65.67     10.11   \n",
       " 10    36.61    32.50     4.89     15.06      3.67     33.56     38.22   \n",
       " 11    53.28    37.00    55.06     51.78     34.61     10.61     65.50   \n",
       " 12     6.50    72.11    58.61     63.44     65.28     57.39     13.89   \n",
       " 13    36.94    23.78    66.28     21.94     80.61     70.83     77.67   \n",
       " 14    54.61    77.89    90.00     83.00     35.22     82.89     61.94   \n",
       " 15    53.61    46.44    34.33     49.39     71.78     47.11     16.17   \n",
       " 16    34.28    28.83    55.61     67.67      2.00     85.33     81.39   \n",
       " 17    43.06    46.67    44.83     47.22     25.00     57.11     21.06   \n",
       " 18    68.83    55.22    69.22     68.89     42.83     68.56     72.94   \n",
       " 19    40.72    84.50    71.44     38.89     88.83     84.11     44.94   \n",
       " 20    31.83    54.22    48.50     81.50     73.78     41.39     89.83   \n",
       " 21    67.61    76.67    77.06     61.50     94.72     84.78     68.17   \n",
       " 22    36.94    84.06    67.11     87.67     38.94     34.28     64.78   \n",
       " 23    66.00    54.39    51.06     18.17     48.50     90.89     89.83   \n",
       " \n",
       "     Animal14  Animal15  Animal16  \n",
       " 0      72.44     79.44     89.78  \n",
       " 1      20.28     70.11     13.28  \n",
       " 2      56.00     59.61     48.22  \n",
       " 3      35.06     54.61     58.56  \n",
       " 4      65.78     45.50     14.72  \n",
       " 5      19.28      0.06     18.67  \n",
       " 6       5.06     12.22     56.22  \n",
       " 7      20.39      1.50     24.44  \n",
       " 8      32.17      0.28     39.56  \n",
       " 9      38.44     32.72      4.28  \n",
       " 10     36.89      0.22     45.89  \n",
       " 11     61.00      0.39     45.44  \n",
       " 12     49.44     44.06     16.83  \n",
       " 13     48.89     61.39     13.72  \n",
       " 14     50.33     78.06     68.83  \n",
       " 15     59.22     67.06     76.78  \n",
       " 16     18.61      9.00     75.17  \n",
       " 17     47.67     61.44     40.89  \n",
       " 18     56.61     84.83     85.78  \n",
       " 19     43.94     59.44     70.50  \n",
       " 20     64.39     88.17     82.28  \n",
       " 21     39.50     21.83     30.67  \n",
       " 22     61.33     81.44     93.61  \n",
       " 23     68.33     29.83     57.61  }"
      ]
     },
     "execution_count": 8,
     "metadata": {},
     "output_type": "execute_result"
    }
   ],
   "source": [
    "df_dict"
   ]
  },
  {
   "cell_type": "code",
   "execution_count": null,
   "id": "6fba2c7e-8bfe-433d-b36a-3b2e077c0866",
   "metadata": {},
   "outputs": [],
   "source": []
  }
 ],
 "metadata": {
  "kernelspec": {
   "display_name": "Python (sleepenv)",
   "language": "python",
   "name": "sleepenv"
  },
  "language_info": {
   "codemirror_mode": {
    "name": "ipython",
    "version": 3
   },
   "file_extension": ".py",
   "mimetype": "text/x-python",
   "name": "python",
   "nbconvert_exporter": "python",
   "pygments_lexer": "ipython3",
   "version": "3.12.3"
  }
 },
 "nbformat": 4,
 "nbformat_minor": 5
}
