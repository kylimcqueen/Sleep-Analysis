{
 "cells": [
  {
   "cell_type": "markdown",
   "id": "863e31e1-1276-483b-a063-8afe901314fb",
   "metadata": {},
   "source": [
    "# Upload data"
   ]
  },
  {
   "cell_type": "code",
   "execution_count": 1,
   "id": "cf1560e4-237e-47b0-b3dd-26732cfd8e07",
   "metadata": {},
   "outputs": [
    {
     "name": "stdout",
     "output_type": "stream",
     "text": [
      "Requirement already satisfied: pytest in c:\\users\\kylimcqueen\\appdata\\local\\anaconda3\\lib\\site-packages (7.4.4)\n",
      "Requirement already satisfied: iniconfig in c:\\users\\kylimcqueen\\appdata\\local\\anaconda3\\lib\\site-packages (from pytest) (1.1.1)\n",
      "Requirement already satisfied: packaging in c:\\users\\kylimcqueen\\appdata\\local\\anaconda3\\lib\\site-packages (from pytest) (23.2)\n",
      "Requirement already satisfied: pluggy<2.0,>=0.12 in c:\\users\\kylimcqueen\\appdata\\local\\anaconda3\\lib\\site-packages (from pytest) (1.0.0)\n",
      "Requirement already satisfied: colorama in c:\\users\\kylimcqueen\\appdata\\local\\anaconda3\\lib\\site-packages (from pytest) (0.4.6)\n"
     ]
    }
   ],
   "source": [
    "!pip install pytest"
   ]
  },
  {
   "cell_type": "code",
   "execution_count": 26,
   "id": "411a4259-06d0-4a2b-88b7-7cfc789b609d",
   "metadata": {},
   "outputs": [],
   "source": [
    "import pandas as pd\n",
    "import os #for viewing HTML in web browser\n",
    "import matplotlib.pyplot as plt"
   ]
  },
  {
   "cell_type": "code",
   "execution_count": 28,
   "id": "f78ad555-fd6d-459c-abc8-55519ef21ecc",
   "metadata": {},
   "outputs": [],
   "source": [
    "#Open df in the browser - easiest way to view all the data in this large dataset\n",
    "def to_html(df: pd.DataFrame) -> str:\n",
    "    '''\n",
    "    Render the df in HTML. Return the full HTML address. You can paste the HTML address in the \n",
    "    address bar to see the df at any time.\n",
    "    '''\n",
    "    df.to_html('df_view.html')\n",
    "    full_path = os.path.abspath('df_view.html')\n",
    "    print(full_path)"
   ]
  },
  {
   "cell_type": "code",
   "execution_count": 30,
   "id": "d7cd47f6-f478-42a4-bf75-8919d5816aaa",
   "metadata": {},
   "outputs": [],
   "source": [
    "#Load file\n",
    "# work_filepath = \"C:\\Users\\kylimcqueen\\Downloads\\all_nts_animals_baseline_tall_00.csv\"\n",
    "#mac_filepath = '/Users/kyli/Desktop/Neurotrauma/all_nts_animals_baseline_tall_00.csv'\n",
    "filepath=(\"\\\\Users\\\\kylimcqueen\\\\Downloads\\\\all_nts_animals_postinjury_tall_00.csv\")"
   ]
  },
  {
   "cell_type": "code",
   "execution_count": 32,
   "id": "f425ddc5-d5a4-42ef-9e8c-1f24cdf02a0b",
   "metadata": {},
   "outputs": [
    {
     "name": "stdout",
     "output_type": "stream",
     "text": [
      "\\Users\\kylimcqueen\\Downloads\\all_nts_animals_postinjury_tall_00.csv\n"
     ]
    }
   ],
   "source": [
    "#Check that we grabbed the filepath\n",
    "print(filepath)"
   ]
  },
  {
   "cell_type": "code",
   "execution_count": 34,
   "id": "16708882-4271-4e84-a1c2-d163bbb9d873",
   "metadata": {},
   "outputs": [],
   "source": [
    "#Create df\n",
    "df_original = pd.read_csv(filepath)"
   ]
  },
  {
   "cell_type": "code",
   "execution_count": 36,
   "id": "e02da4dd-4a6c-4627-a76b-03c7f36eb059",
   "metadata": {},
   "outputs": [
    {
     "name": "stdout",
     "output_type": "stream",
     "text": [
      "C:\\Git\\Sleep-Analysis\\df_view.html\n"
     ]
    }
   ],
   "source": [
    "#Look at the df\n",
    "to_html(df_original)"
   ]
  },
  {
   "cell_type": "markdown",
   "id": "d125736e-999f-42bf-a9ca-7e69db08c2b8",
   "metadata": {},
   "source": [
    "# Data Cleaning"
   ]
  },
  {
   "cell_type": "markdown",
   "id": "5a566424-0178-4576-a80c-f4442ff07acc",
   "metadata": {},
   "source": [
    "## Remove excluded animals\n",
    "\n",
    "We are only using data from animals in the sham vehicle and injured vehicle groups."
   ]
  },
  {
   "cell_type": "code",
   "execution_count": 44,
   "id": "004f3307-128d-459f-abdd-7555840d5d55",
   "metadata": {},
   "outputs": [],
   "source": [
    "#Check for excluded animals\n",
    "def whats_in_the_col(df: pd.DataFrame, target_name: str, col_name: str) -> int, list:\n",
    "    '''\n",
    "    Counts the number of cells in the specified column of the dataframe that don't \n",
    "    exactly match the string \"Included\".\n",
    "    '''\n",
    "    # Get values that don't match the target_name\n",
    "    non_matching_mask: list = df[col_name] != target_name\n",
    "    \n",
    "    # Count how many cells don't match\n",
    "    count: int = non_matching_mask.sum()\n",
    "    \n",
    "    # Get the actual values that don't match\n",
    "    non_matching_values: list = df.loc[non_matching_mask, col_name].unique().tolist()\n",
    "    \n",
    "    return count, non_matching_values"
   ]
  },
  {
   "cell_type": "code",
   "execution_count": null,
   "id": "81fb747f-2683-4701-8efd-55ab8987e8b4",
   "metadata": {},
   "outputs": [],
   "source": []
  },
  {
   "cell_type": "markdown",
   "id": "e39117d4-71e1-4d36-838d-79164d0f9df3",
   "metadata": {},
   "source": [
    "## Handle missing values\n",
    "\n",
    "Data is in [TIDY](https://cran.r-project.org/web/packages/tidyr/vignettes/tidy-data.html) format. This means each row is an observation and each column is a variable. For each different cohort, there is a certain number of NaNs at the beginning and end of sleep percent column. This is because of the way the data was originally formatted in the Excel. To address missing values, we need to get rid of all the leading and lagging NaNs and keep in mind that the number of leading and lagging Nans is the same within each cohort but different between each cohort."
   ]
  },
  {
   "cell_type": "code",
   "execution_count": 21,
   "id": "1ecac4ae-efd1-4f70-995c-a257ff48eea5",
   "metadata": {},
   "outputs": [],
   "source": [
    "def trim_nan_edges_nested(df, cohort_col, mouse_col, target_col):\n",
    "    trimmed_groups = []\n",
    "\n",
    "    # Loop over each cohort\n",
    "    for _, cohort_group in df.groupby(cohort_col):\n",
    "        # Loop over each UniqueMouse within the cohort\n",
    "        for _, mouse_group in cohort_group.groupby(mouse_col):\n",
    "            mouse_group = mouse_group.reset_index(drop=True)\n",
    "            valid_mask = mouse_group[target_col].notna()\n",
    "\n",
    "            if valid_mask.any():\n",
    "                first_valid_idx = valid_mask.idxmax()\n",
    "                last_valid_idx = len(valid_mask) - valid_mask[::-1].idxmax()\n",
    "                trimmed = mouse_group.iloc[first_valid_idx:last_valid_idx].copy()\n",
    "                trimmed_groups.append(trimmed)\n",
    "\n",
    "    # Combine all cleaned groups\n",
    "    trimmed_df = pd.concat(trimmed_groups, ignore_index=True)\n",
    "    return trimmed_df\n"
   ]
  },
  {
   "cell_type": "code",
   "execution_count": null,
   "id": "bb8d3897-ba72-42df-b66e-bf3d6acdd256",
   "metadata": {},
   "outputs": [],
   "source": [
    "# Remove duplicates"
   ]
  },
  {
   "cell_type": "code",
   "execution_count": null,
   "id": "5168fb11-be29-48eb-9186-353d7c9ebfe1",
   "metadata": {},
   "outputs": [],
   "source": [
    "# Check and convert datatypes"
   ]
  },
  {
   "cell_type": "code",
   "execution_count": null,
   "id": "ef611675-3c37-4318-8276-d4b5fef578ce",
   "metadata": {},
   "outputs": [],
   "source": [
    "# Clean text data"
   ]
  },
  {
   "cell_type": "code",
   "execution_count": null,
   "id": "d145282a-40c6-44fe-ad41-00ae83910446",
   "metadata": {},
   "outputs": [],
   "source": [
    "# Filter and select data"
   ]
  }
 ],
 "metadata": {
  "kernelspec": {
   "display_name": "Python (sleepenv)",
   "language": "python",
   "name": "sleepenv"
  },
  "language_info": {
   "codemirror_mode": {
    "name": "ipython",
    "version": 3
   },
   "file_extension": ".py",
   "mimetype": "text/x-python",
   "name": "python",
   "nbconvert_exporter": "python",
   "pygments_lexer": "ipython3",
   "version": "3.12.3"
  }
 },
 "nbformat": 4,
 "nbformat_minor": 5
}
