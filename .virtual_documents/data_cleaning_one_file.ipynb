


#Import necessary packages

#Visualization
import numpy as np
import pandas as pd
import matplotlib.pyplot as plt

#Files
import tkinter as tk
from tkinter import filedialog


#Load file, assign to variable, and return variable
def load_file():
    #Initialize tkinter root window (hidden)
    root = tk.Tk()
    root.withdraw() #Hide the main window

    #Open file dialog for  file selection
    filepath = filedialog.askopenfilenames(
        title = "Select file",
        filetypes = (("CSV files", "*.csv"), ("All files", "*.*"))
    )

    #Return an empty list if no files selected
    if not filepath:
        print("No files selected")
        return []
        
    #Return list of file paths
    return filepath


#Create df, return df
def create_df(filepath):
    sleep_df = pd.read_csv(filepath)

    return sleep_df


#Clean data - remove unnecessary columns

def clean_df(sleep_df):

    #Look at df 
    sleep_df.head()


#Clean data - remove outliers





filepath = load_file()


df = create_df(filepath)
