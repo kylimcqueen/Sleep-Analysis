{
 "cells": [
  {
   "cell_type": "markdown",
   "id": "fba049b6-e58f-42da-896f-fe7d2feb8fca",
   "metadata": {},
   "source": [
    "This script contains functions for data cleaning, including missing value handling,\n",
    "data type conversions, and outlier removal when analyzing one .csv sleep file. \n"
   ]
  },
  {
   "cell_type": "code",
   "execution_count": 1,
   "id": "d9b02e85-f02e-4364-bebd-5c077e850070",
   "metadata": {},
   "outputs": [],
   "source": [
    "#Import necessary packages\n",
    "\n",
    "#Visualization\n",
    "import numpy as np\n",
    "import pandas as pd\n",
    "import matplotlib.pyplot as plt\n",
    "\n",
    "#Files\n",
    "import tkinter as tk\n",
    "from tkinter import filedialog"
   ]
  },
  {
   "cell_type": "code",
   "execution_count": 2,
   "id": "ccef29ac-762a-4d9f-9972-a7328d5d3d71",
   "metadata": {
    "editable": true,
    "slideshow": {
     "slide_type": ""
    },
    "tags": []
   },
   "outputs": [],
   "source": [
    "#Load file, assign to variable, and return variable\n",
    "def load_file():\n",
    "    #Initialize tkinter root window (hidden)\n",
    "    root = tk.Tk()\n",
    "    root.withdraw() #Hide the main window\n",
    "\n",
    "    #Open file dialog for  file selection\n",
    "    filepath = filedialog.askopenfilenames(\n",
    "        title = \"Select file\",\n",
    "        filetypes = ((\"CSV files\", \"*.csv\"), (\"All files\", \"*.*\"))\n",
    "    )\n",
    "\n",
    "    #Return an empty list if no files selected\n",
    "    if not filepath:\n",
    "        print(\"No files selected\")\n",
    "        return []\n",
    "        \n",
    "    #Return list of file paths\n",
    "    return filepath"
   ]
  },
  {
   "cell_type": "code",
   "execution_count": 4,
   "id": "d43bf588-6bf2-4266-8c19-f88bf5e2576d",
   "metadata": {},
   "outputs": [],
   "source": [
    "#Create df, return df\n",
    "def create_df(filepath):\n",
    "    sleep_df = pd.read_csv(filepath)\n",
    "\n",
    "    return sleep_df"
   ]
  },
  {
   "cell_type": "code",
   "execution_count": null,
   "id": "aae45b36-c334-4f7b-aefc-74e8782d3d5d",
   "metadata": {},
   "outputs": [],
   "source": [
    "#Clean data - remove unnecessary columns\n",
    "\n",
    "def clean_df(sleep_df):\n",
    "\n",
    "    #Look at df \n",
    "    sleep_df.head()"
   ]
  },
  {
   "cell_type": "code",
   "execution_count": null,
   "id": "65c6d50c-358f-48f0-af86-1a13e683d7d4",
   "metadata": {},
   "outputs": [],
   "source": [
    "#Clean data - remove outliers"
   ]
  },
  {
   "cell_type": "markdown",
   "id": "af939ac1-e9fa-4a3d-b37e-99b58d00da4a",
   "metadata": {},
   "source": [
    "Run functions."
   ]
  },
  {
   "cell_type": "code",
   "execution_count": 5,
   "id": "f3ea0e1e-10bd-4f9e-bc2a-63b064a9872f",
   "metadata": {},
   "outputs": [
    {
     "name": "stdout",
     "output_type": "stream",
     "text": [
      "No files selected\n"
     ]
    }
   ],
   "source": [
    "filepath = load_file()"
   ]
  },
  {
   "cell_type": "code",
   "execution_count": null,
   "id": "63257eb6-5298-4808-bfc8-bf96dc23cc23",
   "metadata": {},
   "outputs": [],
   "source": [
    "df = create_df(filepath)"
   ]
  }
 ],
 "metadata": {
  "kernelspec": {
   "display_name": "Python 3 (ipykernel)",
   "language": "python",
   "name": "python3"
  },
  "language_info": {
   "codemirror_mode": {
    "name": "ipython",
    "version": 3
   },
   "file_extension": ".py",
   "mimetype": "text/x-python",
   "name": "python",
   "nbconvert_exporter": "python",
   "pygments_lexer": "ipython3",
   "version": "3.13.1"
  }
 },
 "nbformat": 4,
 "nbformat_minor": 5
}
