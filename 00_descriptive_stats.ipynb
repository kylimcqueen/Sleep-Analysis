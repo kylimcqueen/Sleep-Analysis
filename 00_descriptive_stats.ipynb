{
 "cells": [
  {
   "cell_type": "markdown",
   "id": "863e31e1-1276-483b-a063-8afe901314fb",
   "metadata": {},
   "source": [
    "# Upload data"
   ]
  },
  {
   "cell_type": "code",
   "execution_count": 2,
   "id": "411a4259-06d0-4a2b-88b7-7cfc789b609d",
   "metadata": {},
   "outputs": [],
   "source": [
    "import pandas as pd\n",
    "import os #for viewing HTML in web browser\n",
    "import matplotlib.pyplot as plt"
   ]
  },
  {
   "cell_type": "code",
   "execution_count": 4,
   "id": "f78ad555-fd6d-459c-abc8-55519ef21ecc",
   "metadata": {},
   "outputs": [],
   "source": [
    "#Open df in the browser - easiest way to view all the data in this large dataset\n",
    "def to_html(df: pd.DataFrame) -> str:\n",
    "    '''\n",
    "    Render the df in HTML. Return the full HTML address. You can paste the HTML address in the \n",
    "    address bar to see the df at any time.\n",
    "    '''\n",
    "    df.to_html('df_view.html')\n",
    "    full_path = os.path.abspath('df_view.html')\n",
    "    print(full_path)"
   ]
  },
  {
   "cell_type": "code",
   "execution_count": 8,
   "id": "d7cd47f6-f478-42a4-bf75-8919d5816aaa",
   "metadata": {},
   "outputs": [],
   "source": [
    "#Load file\n",
    "filepath=('/Users/kyli/Desktop/Neurotrauma/all_nts_animals_baseline_tall_00.csv')"
   ]
  },
  {
   "cell_type": "code",
   "execution_count": 9,
   "id": "f425ddc5-d5a4-42ef-9e8c-1f24cdf02a0b",
   "metadata": {},
   "outputs": [
    {
     "name": "stdout",
     "output_type": "stream",
     "text": [
      "/Users/kyli/Desktop/Neurotrauma/all_nts_animals_baseline_tall_00.csv\n"
     ]
    }
   ],
   "source": [
    "#Check that we grabbed the filepath\n",
    "print(filepath)"
   ]
  },
  {
   "cell_type": "code",
   "execution_count": 10,
   "id": "16708882-4271-4e84-a1c2-d163bbb9d873",
   "metadata": {},
   "outputs": [],
   "source": [
    "#Create df\n",
    "df = pd.read_csv(filepath)"
   ]
  },
  {
   "cell_type": "code",
   "execution_count": 12,
   "id": "e02da4dd-4a6c-4627-a76b-03c7f36eb059",
   "metadata": {},
   "outputs": [
    {
     "name": "stdout",
     "output_type": "stream",
     "text": [
      "/Users/kyli/Documents/GitHub/Sleep-Analysis/df_view.html\n"
     ]
    }
   ],
   "source": [
    "#Look at the df\n",
    "to_html(df)"
   ]
  },
  {
   "cell_type": "markdown",
   "id": "d125736e-999f-42bf-a9ca-7e69db08c2b8",
   "metadata": {},
   "source": [
    "# Data Cleaning"
   ]
  },
  {
   "cell_type": "code",
   "execution_count": null,
   "id": "d89ec1e4-c3f1-4319-9020-842780f5a210",
   "metadata": {},
   "outputs": [],
   "source": [
    "# Handle missing values\n"
   ]
  },
  {
   "cell_type": "code",
   "execution_count": null,
   "id": "bb8d3897-ba72-42df-b66e-bf3d6acdd256",
   "metadata": {},
   "outputs": [],
   "source": [
    "# Remove duplicates"
   ]
  },
  {
   "cell_type": "code",
   "execution_count": null,
   "id": "5168fb11-be29-48eb-9186-353d7c9ebfe1",
   "metadata": {},
   "outputs": [],
   "source": [
    "# Check and convert datatypes"
   ]
  },
  {
   "cell_type": "code",
   "execution_count": null,
   "id": "ef611675-3c37-4318-8276-d4b5fef578ce",
   "metadata": {},
   "outputs": [],
   "source": [
    "# Clean text data"
   ]
  },
  {
   "cell_type": "code",
   "execution_count": null,
   "id": "d145282a-40c6-44fe-ad41-00ae83910446",
   "metadata": {},
   "outputs": [],
   "source": [
    "# Filter and select data"
   ]
  }
 ],
 "metadata": {
  "kernelspec": {
   "display_name": "Python (sleep_analysis_env)",
   "language": "python",
   "name": "sleep_analysis_env"
  },
  "language_info": {
   "codemirror_mode": {
    "name": "ipython",
    "version": 3
   },
   "file_extension": ".py",
   "mimetype": "text/x-python",
   "name": "python",
   "nbconvert_exporter": "python",
   "pygments_lexer": "ipython3",
   "version": "3.13.1"
  }
 },
 "nbformat": 4,
 "nbformat_minor": 5
}
