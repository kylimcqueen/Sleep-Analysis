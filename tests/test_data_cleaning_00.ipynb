{
 "cells": [
  {
   "cell_type": "code",
   "execution_count": 11,
   "id": "99c667d5-79b0-43b3-a86f-4a79881c862d",
   "metadata": {},
   "outputs": [],
   "source": [
    "import sys # Gives info about current Python environment, paths, etc\n",
    "import os\n",
    "import pandas as pd\n",
    "'''\n",
    "We need to access a module in a different folder (the root folder).\n",
    "At default, when you run a script that requires Python to do anything that is not\n",
    "directly in the script (like import statements), it only looks in 1) the current directory, \n",
    "2) the standard library, or 3) installed packages. If your code is in a different folder we have\n",
    "to add it to Python's PATH so it'll look there.\n",
    "'''\n",
    "#sys.path.append(os.path.abspath(\"../Sleep-Analysis\"))  \n"
   ]
  },
  {
   "cell_type": "code",
   "execution_count": 17,
   "id": "d7eea6fb-d233-4020-931a-16aa824b97db",
   "metadata": {},
   "outputs": [
    {
     "ename": "NameError",
     "evalue": "name '__data_cleaning_00__' is not defined",
     "output_type": "error",
     "traceback": [
      "\u001b[1;31m---------------------------------------------------------------------------\u001b[0m",
      "\u001b[1;31mNameError\u001b[0m                                 Traceback (most recent call last)",
      "Cell \u001b[1;32mIn[17], line 1\u001b[0m\n\u001b[1;32m----> 1\u001b[0m root_path \u001b[38;5;241m=\u001b[39m os\u001b[38;5;241m.\u001b[39mpath\u001b[38;5;241m.\u001b[39mabspath(os\u001b[38;5;241m.\u001b[39mpath\u001b[38;5;241m.\u001b[39mjoin(os\u001b[38;5;241m.\u001b[39mpath\u001b[38;5;241m.\u001b[39mdirname(__data_cleaning_00__), \u001b[38;5;124m\"\u001b[39m\u001b[38;5;124m..\u001b[39m\u001b[38;5;124m\"\u001b[39m))\n\u001b[0;32m      2\u001b[0m \u001b[38;5;28mprint\u001b[39m(root_path)\n",
      "\u001b[1;31mNameError\u001b[0m: name '__data_cleaning_00__' is not defined"
     ]
    }
   ],
   "source": [
    "root_path = os.path.abspath(os.path.join(os.path.dirname(__data_cleaning_00__), \"..\"))\n",
    "print(root_path)"
   ]
  },
  {
   "cell_type": "code",
   "execution_count": null,
   "id": "60aeac15-7af2-42dc-bb11-84a709c64c9a",
   "metadata": {},
   "outputs": [],
   "source": []
  }
 ],
 "metadata": {
  "kernelspec": {
   "display_name": "Python 3 (ipykernel)",
   "language": "python",
   "name": "python3"
  },
  "language_info": {
   "codemirror_mode": {
    "name": "ipython",
    "version": 3
   },
   "file_extension": ".py",
   "mimetype": "text/x-python",
   "name": "python",
   "nbconvert_exporter": "python",
   "pygments_lexer": "ipython3",
   "version": "3.12.4"
  }
 },
 "nbformat": 4,
 "nbformat_minor": 5
}
