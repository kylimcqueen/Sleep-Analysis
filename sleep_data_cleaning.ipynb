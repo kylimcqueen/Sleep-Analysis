{
 "cells": [
  {
   "cell_type": "code",
   "execution_count": 1,
   "id": "ffef6df4-f3e7-4e18-8826-806387b05762",
   "metadata": {},
   "outputs": [
    {
     "data": {
      "text/plain": [
       "'\\nThis script contains functions for data cleaning, including missing value handling,\\ndata type conversions, and outlier removal.\\n'"
      ]
     },
     "execution_count": 1,
     "metadata": {},
     "output_type": "execute_result"
    }
   ],
   "source": [
    "\"\"\"\n",
    "This script contains functions for data cleaning, including missing value handling,\n",
    "data type conversions, and outlier removal.\n",
    "\n",
    "For the user:\n",
    "1) If using multiple Excel files of sleep data, ensure that all files are formatted the same way - first column should be date and time, \n",
    "and each column following that is a cage or animal number. Each row is an hour.\n",
    "\"\"\""
   ]
  },
  {
   "cell_type": "code",
   "execution_count": 5,
   "id": "bc83f054-1bb5-4236-8bca-eccb4a7b3d05",
   "metadata": {},
   "outputs": [],
   "source": [
    "#Import necessary packages\n",
    "\n",
    "#Visualization\n",
    "import numpy as np\n",
    "import pandas as pd\n",
    "import matplotlib.pyplot as plt\n",
    "\n",
    "#Files\n",
    "import tkinter as tk\n",
    "from tkinter import filedialog"
   ]
  },
  {
   "cell_type": "code",
   "execution_count": 6,
   "id": "0311f762-0e7c-4a46-baf7-0299b3626570",
   "metadata": {},
   "outputs": [],
   "source": [
    "#Load files using tkinter and ...\n",
    "def load_files():\n",
    "    #Initialize tkinter root window (hidden)\n",
    "    root = tk.Tk()\n",
    "    root.withdraw() #Hide the main window\n",
    "\n",
    "    #Open file dialog for multiple file selection\n",
    "    file_paths = filedialog.askopenfilenames(\n",
    "        title = \"Select files\",\n",
    "        filetypes = ((\"CSV files\", \"*.csv\"), (\"All files\", \"*.*\"))\n",
    "    )\n",
    "\n",
    "    #Return an empty list if no files selected\n",
    "    if not file_paths:\n",
    "        print(\"No files selected\")\n",
    "        return []\n",
    "        \n",
    "    #Return list of file paths\n",
    "    return list(file_paths)"
   ]
  },
  {
   "cell_type": "code",
   "execution_count": null,
   "id": "49409ad7-4538-4b3b-849a-de77ca76ea37",
   "metadata": {},
   "outputs": [],
   "source": [
    "print(file_paths)"
   ]
  },
  {
   "cell_type": "code",
   "execution_count": null,
   "id": "9c2673d9-3a8b-460a-a15b-34c2a59e6156",
   "metadata": {},
   "outputs": [],
   "source": [
    "#Create df for each uploaded file\n",
    "def create_dfs(file_paths):\n",
    "    for file in file_paths:\n",
    "        filename = pd.read"
   ]
  },
  {
   "cell_type": "code",
   "execution_count": null,
   "id": "3bbcd116-988c-4fed-9706-08a830687094",
   "metadata": {},
   "outputs": [],
   "source": [
    "#Make column names consistent"
   ]
  },
  {
   "cell_type": "code",
   "execution_count": null,
   "id": "0747131f-7e55-409f-a692-e9da04ed8efa",
   "metadata": {},
   "outputs": [],
   "source": [
    "#Concatenate dfs - only for baseline data"
   ]
  },
  {
   "cell_type": "code",
   "execution_count": null,
   "id": "48b88742-40a3-4026-83d7-c444761c4214",
   "metadata": {},
   "outputs": [],
   "source": [
    "#Clean data - remove unnecessary columns"
   ]
  },
  {
   "cell_type": "code",
   "execution_count": null,
   "id": "abcdfaa2-e871-43be-baa1-c72496d6744b",
   "metadata": {},
   "outputs": [],
   "source": [
    "#Clean data - remove outliers"
   ]
  },
  {
   "cell_type": "code",
   "execution_count": null,
   "id": "83021dee-d092-440e-bed6-7066cee13df0",
   "metadata": {},
   "outputs": [],
   "source": [
    "#Only for baseline - average the data"
   ]
  },
  {
   "cell_type": "code",
   "execution_count": null,
   "id": "08e8e596-8267-4b1e-a650-0d9a50937efd",
   "metadata": {},
   "outputs": [],
   "source": [
    "#Plot - Individual animals over time"
   ]
  },
  {
   "cell_type": "code",
   "execution_count": null,
   "id": "e456f8d3-472e-4896-a13f-b4f99af19b6f",
   "metadata": {},
   "outputs": [],
   "source": [
    "#Plot - Once vs twice daily injury group averages over time"
   ]
  },
  {
   "cell_type": "code",
   "execution_count": 9,
   "id": "362a36c8-3edd-4810-95ae-f962ad94b658",
   "metadata": {},
   "outputs": [
    {
     "data": {
      "text/plain": [
       "['R:/NeuroTrauma/07 Active Studies/Weight Drop/03 Data/2024/Sleep Data/Excel Files/wd_baseline_sleep_01_30_24.csv',\n",
       " 'R:/NeuroTrauma/07 Active Studies/Weight Drop/03 Data/2024/Sleep Data/Excel Files/wd_baseline_sleep_02_01_24.csv',\n",
       " 'R:/NeuroTrauma/07 Active Studies/Weight Drop/03 Data/2024/Sleep Data/Excel Files/wd_baseline_sleep_02_06_24.csv',\n",
       " 'R:/NeuroTrauma/07 Active Studies/Weight Drop/03 Data/2024/Sleep Data/Excel Files/wd_baseline_sleep_02_08_24.csv',\n",
       " 'R:/NeuroTrauma/07 Active Studies/Weight Drop/03 Data/2024/Sleep Data/Excel Files/wd_baseline_sleep_02_10_24.csv',\n",
       " 'R:/NeuroTrauma/07 Active Studies/Weight Drop/03 Data/2024/Sleep Data/Excel Files/wd_baseline_sleep_02_14_24.csv']"
      ]
     },
     "execution_count": 9,
     "metadata": {},
     "output_type": "execute_result"
    }
   ],
   "source": [
    "#Run functions\n",
    "load_files()"
   ]
  },
  {
   "cell_type": "code",
   "execution_count": null,
   "id": "e8a11a0d-3751-4586-b006-d0d8407c4a8b",
   "metadata": {},
   "outputs": [],
   "source": []
  }
 ],
 "metadata": {
  "kernelspec": {
   "display_name": "Python (sleepenv)",
   "language": "python",
   "name": "sleepenv"
  },
  "language_info": {
   "codemirror_mode": {
    "name": "ipython",
    "version": 3
   },
   "file_extension": ".py",
   "mimetype": "text/x-python",
   "name": "python",
   "nbconvert_exporter": "python",
   "pygments_lexer": "ipython3",
   "version": "3.12.3"
  }
 },
 "nbformat": 4,
 "nbformat_minor": 5
}
