{
 "cells": [
  {
   "cell_type": "code",
   "execution_count": null,
   "id": "ffef6df4-f3e7-4e18-8826-806387b05762",
   "metadata": {},
   "outputs": [],
   "source": [
    "\"\"\"\n",
    "This script contains functions for data cleaning, including missing value handling,\n",
    "data type conversions, and outlier removal.\n",
    "\"\"\""
   ]
  },
  {
   "cell_type": "code",
   "execution_count": 3,
   "id": "bc83f054-1bb5-4236-8bca-eccb4a7b3d05",
   "metadata": {},
   "outputs": [],
   "source": [
    "#Import necessary packages\n",
    "\n",
    "#Visualization\n",
    "import numpy as np\n",
    "import pandas as pd\n",
    "import matplotlib.pyplot as plt\n",
    "\n",
    "#Files\n",
    "import tkinter as tk\n",
    "from tkinter import filedialog"
   ]
  },
  {
   "cell_type": "code",
   "execution_count": 4,
   "id": "0311f762-0e7c-4a46-baf7-0299b3626570",
   "metadata": {},
   "outputs": [],
   "source": [
    "#Load files using tkinter and ...\n",
    "def create_dfs():\n",
    "    #Initialize tkinter root window (hidden)\n",
    "    root = tk.Tk()\n",
    "    root.withdraw() #Hide the main window\n",
    "\n",
    "    #Open file dialog for multiple file selection\n",
    "    file_paths = filedialog.askopenfilenames(\n",
    "        title = \"Select files\",\n",
    "        filetypes = ((\"CSV files\", \"*.csv\"), (\"All files\", \"*.*\"))\n",
    "    )\n",
    "\n",
    "    #Return an empty list if no files selected\n",
    "    if not file_paths:\n",
    "        print(\"No files selected\")\n",
    "        return []\n",
    "        \n",
    "    #Return list of file paths\n",
    "    return list(file_paths)\n",
    "    "
   ]
  },
  {
   "cell_type": "code",
   "execution_count": null,
   "id": "362a36c8-3edd-4810-95ae-f962ad94b658",
   "metadata": {},
   "outputs": [],
   "source": [
    "#Run functions\n",
    "create_dfs()"
   ]
  },
  {
   "cell_type": "code",
   "execution_count": null,
   "id": "e8a11a0d-3751-4586-b006-d0d8407c4a8b",
   "metadata": {},
   "outputs": [],
   "source": []
  }
 ],
 "metadata": {
  "kernelspec": {
   "display_name": "Python (sleepenv)",
   "language": "python",
   "name": "sleepenv"
  },
  "language_info": {
   "codemirror_mode": {
    "name": "ipython",
    "version": 3
   },
   "file_extension": ".py",
   "mimetype": "text/x-python",
   "name": "python",
   "nbconvert_exporter": "python",
   "pygments_lexer": "ipython3",
   "version": "3.12.3"
  }
 },
 "nbformat": 4,
 "nbformat_minor": 5
}
